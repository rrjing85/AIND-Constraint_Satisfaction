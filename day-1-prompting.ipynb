{
 "cells": [
  {
   "cell_type": "markdown",
   "id": "a6ec5903",
   "metadata": {
    "id": "jkxRSYjzA1oX",
    "papermill": {
     "duration": 0.014906,
     "end_time": "2024-11-14T17:20:47.000327",
     "exception": false,
     "start_time": "2024-11-14T17:20:46.985421",
     "status": "completed"
    },
    "tags": []
   },
   "source": [
    "##### Copyright 2024 Google LLC."
   ]
  },
  {
   "cell_type": "code",
   "execution_count": 1,
   "id": "d641b8b7",
   "metadata": {
    "cellView": "form",
    "execution": {
     "iopub.execute_input": "2024-11-14T17:20:47.029943Z",
     "iopub.status.busy": "2024-11-14T17:20:47.029395Z",
     "iopub.status.idle": "2024-11-14T17:20:47.035612Z",
     "shell.execute_reply": "2024-11-14T17:20:47.034603Z"
    },
    "id": "5u5OZ2ShA3BA",
    "papermill": {
     "duration": 0.023946,
     "end_time": "2024-11-14T17:20:47.037702",
     "exception": false,
     "start_time": "2024-11-14T17:20:47.013756",
     "status": "completed"
    },
    "tags": []
   },
   "outputs": [],
   "source": [
    "# @title Licensed under the Apache License, Version 2.0 (the \"License\");\n",
    "# you may not use this file except in compliance with the License.\n",
    "# You may obtain a copy of the License at\n",
    "#\n",
    "# https://www.apache.org/licenses/LICENSE-2.0\n",
    "#\n",
    "# Unless required by applicable law or agreed to in writing, software\n",
    "# distributed under the License is distributed on an \"AS IS\" BASIS,\n",
    "# WITHOUT WARRANTIES OR CONDITIONS OF ANY KIND, either express or implied.\n",
    "# See the License for the specific language governing permissions and\n",
    "# limitations under the License."
   ]
  },
  {
   "cell_type": "markdown",
   "id": "c79808ca",
   "metadata": {
    "id": "csNPnkuCobmG",
    "papermill": {
     "duration": 0.012962,
     "end_time": "2024-11-14T17:20:47.064360",
     "exception": false,
     "start_time": "2024-11-14T17:20:47.051398",
     "status": "completed"
    },
    "tags": []
   },
   "source": [
    "# Day 1 - Prompting\n",
    "\n",
    "Welcome to the Kaggle 5-day Generative AI course!\n",
    "\n",
    "This notebook will show you how to get started with the Gemini API and walk you through some of the example prompts and techniques that you can also read about in the Prompting whitepaper. You don't need to read the whitepaper to use this notebook, but the papers will give you some theoretical context and background to complement this interactive notebook.\n",
    "\n",
    "\n",
    "## Before you begin\n",
    "\n",
    "In this notebook, you'll start exploring prompts and prompt parameters using the Python SDK and AI Studio. For some inspiration, you might enjoy exploring some apps that have been built using the Gemini family of models. Here are a few that we like, and we think you will too.\n",
    "\n",
    "* [TextFX](https://textfx.withgoogle.com/) is a suite of AI-powered tools for rappers, made in collaboration with Lupe Fiasco,\n",
    "* [SQL Talk](https://sql-talk-r5gdynozbq-uc.a.run.app/) shows how you can talk directly to a database using the Gemini API,\n",
    "* [NotebookLM](https://notebooklm.google/) uses Gemini models to build your own personal AI research assistant.\n",
    "\n",
    "\n",
    "## For help\n",
    "\n",
    "**Common issues are covered in the [FAQ and troubleshooting guide](https://www.kaggle.com/code/markishere/day-0-troubleshooting-and-faqs).**\n",
    "\n",
    "### A note on the Gemini API and Vertex AI\n",
    "\n",
    "In the whitepapers, most of the example code uses the Enterprise [Vertex AI platform](https://cloud.google.com/vertex-ai). In contrast, this notebook, along with the others in this series, will use the [Gemini Developer API](https://ai.google.dev/gemini-api/) and [AI Studio](https://aistudio.google.com/).\n",
    "\n",
    "Both APIs provide access to the Gemini family of models, and the code to interact with the models is very similar. Vertex provides a world-class platform for enterprises, governments and advanced users that need powerful features like data governance, ML ops and deep Google Cloud integration.\n",
    "\n",
    "AI Studio is free to use and only requires a compatible Google account to log in and get started. It is deeply integrated with the Gemini API, which comes with a generous [free tier](https://ai.google.dev/pricing) that you can use to run the code in these exercises.\n",
    "\n",
    "If you are already set up with Google Cloud, you can check out the [Enterprise Gemini API](https://cloud.google.com/vertex-ai/generative-ai/docs/model-reference/inference) through Vertex AI, and run the samples directly from the supplied whitepapers."
   ]
  },
  {
   "attachments": {
    "d8299597-f771-4195-ac94-1d6f658ef2bd.png": {
     "image/png": "[encoded data removed]"
    },
    "ed25e346-2e15-4ab0-bc22-503eb1845e66.png": {
     "image/png": "[encoded data removed]"
    }
   },
   "cell_type": "markdown",
   "id": "cb55b6da",
   "metadata": {
    "id": "f00ea7c99e44",
    "papermill": {
     "duration": 0.012694,
     "end_time": "2024-11-14T17:20:47.090349",
     "exception": false,
     "start_time": "2024-11-14T17:20:47.077655",
     "status": "completed"
    },
    "tags": []
   },
   "source": [
    "## Get started with Kaggle notebooks\n",
    "\n",
    "If this is your first time using a Kaggle notebook, welcome! You can read about how to use Kaggle notebooks [in the docs](https://www.kaggle.com/docs/notebooks).\n",
    "\n",
    "First, you will need to phone verify your account at kaggle.com/settings.\n",
    "\n",
    "![](https://storage.googleapis.com/kaggle-media/Images/5dgai_0.png)"
   ]
  },
  {
   "cell_type": "markdown",
   "id": "8ae7c175",
   "metadata": {
    "papermill": {
     "duration": 0.013718,
     "end_time": "2024-11-14T17:20:47.117172",
     "exception": false,
     "start_time": "2024-11-14T17:20:47.103454",
     "status": "completed"
    },
    "tags": []
   },
   "source": [
    "To run this notebook, as well as the others in this course, you will need to make a copy, or fork, the notebook. Look for the `Copy and Edit` button in the top-right, and **click it** to make an editable, private copy of the notebook. It should look like this one:\n",
    "\n",
    "![Copy and Edit button](https://storage.googleapis.com/kaggle-media/Images/5gdai_sc_1.png)\n",
    "\n",
    "Your copy will now have a ▶️ **Run** button next to each code cell that you can press to execute that cell. These notebooks are expected to be run in order from top-to-bottom, but you are encouraged to add new cells, run your own code and explore. If you get stuck, you can try the `Factory reset` option in the `Run` menu, or head back to the original notebook and make a fresh copy.\n",
    "\n",
    "![Run cell button](https://storage.googleapis.com/kaggle-media/Images/5gdai_sc_2.png)\n",
    "\n",
    "### Problems?\n",
    "\n",
    "If you have any problems, head over to the [Kaggle Discord](https://discord.com/invite/kaggle), find the [`#5dgai-q-and-a` channel](https://discord.com/channels/1101210829807956100/1303438695143178251) and ask for help."
   ]
  },
  {
   "cell_type": "markdown",
   "id": "472a2511",
   "metadata": {
    "id": "ExkOXcPxtTb5",
    "papermill": {
     "duration": 0.012943,
     "end_time": "2024-11-14T17:20:47.143484",
     "exception": false,
     "start_time": "2024-11-14T17:20:47.130541",
     "status": "completed"
    },
    "tags": []
   },
   "source": [
    "## Get started with the Gemini API\n",
    "\n",
    "All of the exercises in this notebook will use the [Gemini API](https://ai.google.dev/gemini-api/) by way of the [Python SDK](https://pypi.org/project/google-generativeai/). Each of these prompts can be accessed directly in [Google AI Studio](https://aistudio.google.com/) too, so if you would rather use a web interface and skip the code for this activity, look for the <img src=\"https://ai.google.dev/site-assets/images/marketing/home/icon-ais.png\" style=\"height: 24px\" height=24/> AI Studio link on each prompt."
   ]
  },
  {
   "cell_type": "markdown",
   "id": "ed1e9dcc",
   "metadata": {
    "papermill": {
     "duration": 0.012732,
     "end_time": "2024-11-14T17:20:47.169400",
     "exception": false,
     "start_time": "2024-11-14T17:20:47.156668",
     "status": "completed"
    },
    "tags": []
   },
   "source": [
    "Next, you will need to add your API key to your Kaggle Notebook as a Kaggle User Secret.\n",
    "\n",
    "![](https://storage.googleapis.com/kaggle-media/Images/5dgai_1.png)\n",
    "![](https://storage.googleapis.com/kaggle-media/Images/5dgai_2.png)\n",
    "![](https://storage.googleapis.com/kaggle-media/Images/5dgai_3.png)\n",
    "![](https://storage.googleapis.com/kaggle-media/Images/5dgai_4.png)"
   ]
  },
  {
   "cell_type": "markdown",
   "id": "264d2319",
   "metadata": {
    "id": "UAjUV3BsvFXQ",
    "papermill": {
     "duration": 0.012961,
     "end_time": "2024-11-14T17:20:47.195412",
     "exception": false,
     "start_time": "2024-11-14T17:20:47.182451",
     "status": "completed"
    },
    "tags": []
   },
   "source": [
    "### Install the SDK"
   ]
  },
  {
   "cell_type": "code",
   "execution_count": 2,
   "id": "1acacd92",
   "metadata": {
    "execution": {
     "iopub.execute_input": "2024-11-14T17:20:47.223599Z",
     "iopub.status.busy": "2024-11-14T17:20:47.223211Z",
     "iopub.status.idle": "2024-11-14T17:21:22.376662Z",
     "shell.execute_reply": "2024-11-14T17:21:22.375005Z"
    },
    "id": "NzwzJFU9LqkJ",
    "papermill": {
     "duration": 35.184672,
     "end_time": "2024-11-14T17:21:22.393407",
     "exception": false,
     "start_time": "2024-11-14T17:20:47.208735",
     "status": "completed"
    },
    "tags": []
   },
   "outputs": [
    {
     "name": "stdout",
     "output_type": "stream",
     "text": [
      "Note: you may need to restart the kernel to use updated packages.\n"
     ]
    }
   ],
   "source": [
    "%pip install -U -q \"google-generativeai>=0.8.3\""
   ]
  },
  {
   "cell_type": "markdown",
   "id": "fad2a393",
   "metadata": {
    "papermill": {
     "duration": 0.013333,
     "end_time": "2024-11-14T17:21:22.420136",
     "exception": false,
     "start_time": "2024-11-14T17:21:22.406803",
     "status": "completed"
    },
    "tags": []
   },
   "source": [
    "You do not need to restart the kernel."
   ]
  },
  {
   "cell_type": "code",
   "execution_count": 3,
   "id": "c6a6ce23",
   "metadata": {
    "execution": {
     "iopub.execute_input": "2024-11-14T17:21:22.448997Z",
     "iopub.status.busy": "2024-11-14T17:21:22.448557Z",
     "iopub.status.idle": "2024-11-14T17:21:23.712105Z",
     "shell.execute_reply": "2024-11-14T17:21:23.710766Z"
    },
    "id": "5DwxYIRavMST",
    "papermill": {
     "duration": 1.281155,
     "end_time": "2024-11-14T17:21:23.714804",
     "exception": false,
     "start_time": "2024-11-14T17:21:22.433649",
     "status": "completed"
    },
    "tags": []
   },
   "outputs": [],
   "source": [
    "import google.generativeai as genai\n",
    "from IPython.display import HTML, Markdown, display"
   ]
  },
  {
   "cell_type": "markdown",
   "id": "69578650",
   "metadata": {
    "id": "DNEt2BCOvOJ1",
    "papermill": {
     "duration": 0.014464,
     "end_time": "2024-11-14T17:21:23.742709",
     "exception": false,
     "start_time": "2024-11-14T17:21:23.728245",
     "status": "completed"
    },
    "tags": []
   },
   "source": [
    "### Set up your API key\n",
    "\n",
    "To run the following cell, your API key must be stored it in a [Kaggle secret](https://www.kaggle.com/discussions/product-feedback/114053) named `GOOGLE_API_KEY`.\n",
    "\n",
    "If you don't already have an API key, you can grab one from [AI Studio](https://aistudio.google.com/app/apikey). You can find [detailed instructions in the docs](https://ai.google.dev/gemini-api/docs/api-key).\n",
    "\n",
    "To make the key available through Kaggle secrets, choose `Secrets` from the `Add-ons` menu and follow the instructions to add your key or enable it for this notebook."
   ]
  },
  {
   "cell_type": "code",
   "execution_count": 4,
   "id": "8d19cf8a",
   "metadata": {
    "execution": {
     "iopub.execute_input": "2024-11-14T17:21:23.772077Z",
     "iopub.status.busy": "2024-11-14T17:21:23.771218Z",
     "iopub.status.idle": "2024-11-14T17:21:23.902973Z",
     "shell.execute_reply": "2024-11-14T17:21:23.901896Z"
    },
    "id": "SHl0bkPCvayd",
    "papermill": {
     "duration": 0.148954,
     "end_time": "2024-11-14T17:21:23.905577",
     "exception": false,
     "start_time": "2024-11-14T17:21:23.756623",
     "status": "completed"
    },
    "tags": []
   },
   "outputs": [],
   "source": [
    "from kaggle_secrets import UserSecretsClient\n",
    "\n",
    "GOOGLE_API_KEY = UserSecretsClient().get_secret(\"GOOGLE_API_KEY\")\n",
    "genai.configure(api_key=GOOGLE_API_KEY)"
   ]
  },
  {
   "attachments": {
    "d2be9aab-2527-48af-b6cf-1f06cdd7c3a7.png": {
     "image/png": "[encoded data removed]"
    }
   },
   "cell_type": "markdown",
   "id": "71341f95",
   "metadata": {
    "id": "4e720472fd86",
    "papermill": {
     "duration": 0.013185,
     "end_time": "2024-11-14T17:21:23.932353",
     "exception": false,
     "start_time": "2024-11-14T17:21:23.919168",
     "status": "completed"
    },
    "tags": []
   },
   "source": [
    "If you received an error response along the lines of `No user secrets exist for kernel id ...`, then you need to add your API key via `Add-ons`, `Secrets` **and** enable it.\n",
    "\n",
    "![Screenshot of the checkbox to enable GOOGLE_API_KEY secret](https://storage.googleapis.com/kaggle-media/Images/5gdai_sc_3.png)"
   ]
  },
  {
   "cell_type": "markdown",
   "id": "2e6d4a04",
   "metadata": {
    "id": "H_YXCYIKvyZJ",
    "papermill": {
     "duration": 0.012841,
     "end_time": "2024-11-14T17:21:23.958516",
     "exception": false,
     "start_time": "2024-11-14T17:21:23.945675",
     "status": "completed"
    },
    "tags": []
   },
   "source": [
    "### Run your first prompt\n",
    "\n",
    "In this step, you will test that your API key is set up correctly by making a request. The `gemini-1.5-flash` model has been selected here."
   ]
  },
  {
   "cell_type": "code",
   "execution_count": 5,
   "id": "962fdc44",
   "metadata": {
    "execution": {
     "iopub.execute_input": "2024-11-14T17:21:23.987409Z",
     "iopub.status.busy": "2024-11-14T17:21:23.987045Z",
     "iopub.status.idle": "2024-11-14T17:21:25.542443Z",
     "shell.execute_reply": "2024-11-14T17:21:25.541083Z"
    },
    "id": "BV1o0PmcvyJF",
    "papermill": {
     "duration": 1.57324,
     "end_time": "2024-11-14T17:21:25.544898",
     "exception": false,
     "start_time": "2024-11-14T17:21:23.971658",
     "status": "completed"
    },
    "tags": []
   },
   "outputs": [
    {
     "name": "stdout",
     "output_type": "stream",
     "text": [
      "Imagine you have a really smart friend who can learn new things super fast. That's kind of like AI! It's a computer program that can learn and solve problems just like a person, but it's much, much faster. \n",
      "\n",
      "Think of all the games you play on your tablet or phone. Some of those games have AI built in! They're the characters you play against who seem to get smarter the more you play. They're learning from you!\n",
      "\n",
      "AI can also do lots of cool things like:\n",
      "\n",
      "* **Help doctors diagnose illnesses:**  AI can analyze medical images to help doctors find problems faster. \n",
      "* **Make your phone understand what you're saying:** That's how Siri and Alexa can answer your questions! \n",
      "* **Drive cars without a driver:** Self-driving cars are using AI to navigate roads safely. \n",
      "\n",
      "AI is still learning and growing, but it's already doing some amazing things!  It's like having a super smart friend who can help us solve problems and make our lives easier. 😊 \n",
      "\n"
     ]
    }
   ],
   "source": [
    "flash = genai.GenerativeModel('gemini-1.5-flash')\n",
    "response = flash.generate_content(\"Explain AI to me like I'm a kid.\")\n",
    "print(response.text)"
   ]
  },
  {
   "cell_type": "markdown",
   "id": "444cc963",
   "metadata": {
    "id": "f60ed9d8ae41",
    "papermill": {
     "duration": 0.01331,
     "end_time": "2024-11-14T17:21:25.573956",
     "exception": false,
     "start_time": "2024-11-14T17:21:25.560646",
     "status": "completed"
    },
    "tags": []
   },
   "source": [
    "The response often comes back in markdown format, which you can render directly in this notebook."
   ]
  },
  {
   "cell_type": "code",
   "execution_count": 6,
   "id": "8559b3bc",
   "metadata": {
    "execution": {
     "iopub.execute_input": "2024-11-14T17:21:25.602904Z",
     "iopub.status.busy": "2024-11-14T17:21:25.602436Z",
     "iopub.status.idle": "2024-11-14T17:21:25.611661Z",
     "shell.execute_reply": "2024-11-14T17:21:25.610403Z"
    },
    "id": "c933e5e460a5",
    "papermill": {
     "duration": 0.026685,
     "end_time": "2024-11-14T17:21:25.614145",
     "exception": false,
     "start_time": "2024-11-14T17:21:25.587460",
     "status": "completed"
    },
    "tags": []
   },
   "outputs": [
    {
     "data": {
      "text/markdown": [
       "Imagine you have a really smart friend who can learn new things super fast. That's kind of like AI! It's a computer program that can learn and solve problems just like a person, but it's much, much faster. \n",
       "\n",
       "Think of all the games you play on your tablet or phone. Some of those games have AI built in! They're the characters you play against who seem to get smarter the more you play. They're learning from you!\n",
       "\n",
       "AI can also do lots of cool things like:\n",
       "\n",
       "* **Help doctors diagnose illnesses:**  AI can analyze medical images to help doctors find problems faster. \n",
       "* **Make your phone understand what you're saying:** That's how Siri and Alexa can answer your questions! \n",
       "* **Drive cars without a driver:** Self-driving cars are using AI to navigate roads safely. \n",
       "\n",
       "AI is still learning and growing, but it's already doing some amazing things!  It's like having a super smart friend who can help us solve problems and make our lives easier. 😊 \n"
      ],
      "text/plain": [
       "<IPython.core.display.Markdown object>"
      ]
     },
     "execution_count": 6,
     "metadata": {},
     "output_type": "execute_result"
    }
   ],
   "source": [
    "Markdown(response.text)"
   ]
  },
  {
   "cell_type": "markdown",
   "id": "044c347a",
   "metadata": {
    "id": "byx0pT9ZMW2Q",
    "papermill": {
     "duration": 0.013534,
     "end_time": "2024-11-14T17:21:25.642041",
     "exception": false,
     "start_time": "2024-11-14T17:21:25.628507",
     "status": "completed"
    },
    "tags": []
   },
   "source": [
    "### Start a chat\n",
    "\n",
    "The previous example uses a single-turn, text-in/text-out structure, but you can also set up a multi-turn chat structure too."
   ]
  },
  {
   "cell_type": "code",
   "execution_count": 7,
   "id": "02503142",
   "metadata": {
    "execution": {
     "iopub.execute_input": "2024-11-14T17:21:25.672045Z",
     "iopub.status.busy": "2024-11-14T17:21:25.671606Z",
     "iopub.status.idle": "2024-11-14T17:21:26.019031Z",
     "shell.execute_reply": "2024-11-14T17:21:26.017583Z"
    },
    "id": "lV_S5ZL5MidD",
    "papermill": {
     "duration": 0.365401,
     "end_time": "2024-11-14T17:21:26.021672",
     "exception": false,
     "start_time": "2024-11-14T17:21:25.656271",
     "status": "completed"
    },
    "tags": []
   },
   "outputs": [
    {
     "name": "stdout",
     "output_type": "stream",
     "text": [
      "Hello Zlork! It's nice to meet you. What can I do for you today? 😊 \n",
      "\n"
     ]
    }
   ],
   "source": [
    "chat = flash.start_chat(history=[])\n",
    "response = chat.send_message('Hello! My name is Zlork.')\n",
    "print(response.text)"
   ]
  },
  {
   "cell_type": "code",
   "execution_count": 8,
   "id": "b763d53d",
   "metadata": {
    "execution": {
     "iopub.execute_input": "2024-11-14T17:21:26.051989Z",
     "iopub.status.busy": "2024-11-14T17:21:26.050543Z",
     "iopub.status.idle": "2024-11-14T17:21:26.786673Z",
     "shell.execute_reply": "2024-11-14T17:21:26.785454Z"
    },
    "id": "7b0372c3c64a",
    "papermill": {
     "duration": 0.753941,
     "end_time": "2024-11-14T17:21:26.789482",
     "exception": false,
     "start_time": "2024-11-14T17:21:26.035541",
     "status": "completed"
    },
    "tags": []
   },
   "outputs": [
    {
     "name": "stdout",
     "output_type": "stream",
     "text": [
      "You want to know something interesting about dinosaurs?  Here's a fun fact: \n",
      "\n",
      "**Did you know that the smallest dinosaur ever discovered was about the size of a chicken?** \n",
      "\n",
      "This tiny dinosaur, called *Microraptor*, had feathers and could possibly glide between trees. It was discovered in China and is a fascinating example of the incredible diversity of dinosaurs! \n",
      "\n",
      "What else would you like to know about dinosaurs? 🤔 \n",
      "\n"
     ]
    }
   ],
   "source": [
    "response = chat.send_message('Can you tell something interesting about dinosaurs?')\n",
    "print(response.text)"
   ]
  },
  {
   "cell_type": "code",
   "execution_count": 9,
   "id": "fbf98488",
   "metadata": {
    "execution": {
     "iopub.execute_input": "2024-11-14T17:21:26.819334Z",
     "iopub.status.busy": "2024-11-14T17:21:26.818950Z",
     "iopub.status.idle": "2024-11-14T17:21:27.311703Z",
     "shell.execute_reply": "2024-11-14T17:21:27.310367Z"
    },
    "id": "d3f9591392a7",
    "papermill": {
     "duration": 0.51052,
     "end_time": "2024-11-14T17:21:27.314223",
     "exception": false,
     "start_time": "2024-11-14T17:21:26.803703",
     "status": "completed"
    },
    "tags": []
   },
   "outputs": [
    {
     "name": "stdout",
     "output_type": "stream",
     "text": [
      "Of course!  You're Zlork. 😊  I have a good memory, especially for names. 😄 \n",
      "\n",
      "What else can I help you with today, Zlork?  \n",
      "\n"
     ]
    }
   ],
   "source": [
    "# While you have the `chat` object around, the conversation state\n",
    "# persists. Confirm that by asking if it knows my name.\n",
    "response = chat.send_message('Do you remember what my name is?')\n",
    "print(response.text)"
   ]
  },
  {
   "cell_type": "markdown",
   "id": "26399e2b",
   "metadata": {
    "id": "2KAjpr1200sW",
    "papermill": {
     "duration": 0.013796,
     "end_time": "2024-11-14T17:21:27.343044",
     "exception": false,
     "start_time": "2024-11-14T17:21:27.329248",
     "status": "completed"
    },
    "tags": []
   },
   "source": [
    "### Choose a model\n",
    "\n",
    "The Gemini API provides access to a number of models from the Gemini model family. Read about the available models and their capabilities on the [model overview page](https://ai.google.dev/gemini-api/docs/models/gemini).\n",
    "\n",
    "In this step you'll use the API to list all of the available models."
   ]
  },
  {
   "cell_type": "code",
   "execution_count": 10,
   "id": "c591717f",
   "metadata": {
    "execution": {
     "iopub.execute_input": "2024-11-14T17:21:27.373038Z",
     "iopub.status.busy": "2024-11-14T17:21:27.372590Z",
     "iopub.status.idle": "2024-11-14T17:21:27.453333Z",
     "shell.execute_reply": "2024-11-14T17:21:27.452208Z"
    },
    "id": "uUUZa2uq2jDm",
    "papermill": {
     "duration": 0.098646,
     "end_time": "2024-11-14T17:21:27.455881",
     "exception": false,
     "start_time": "2024-11-14T17:21:27.357235",
     "status": "completed"
    },
    "tags": []
   },
   "outputs": [
    {
     "name": "stdout",
     "output_type": "stream",
     "text": [
      "models/chat-bison-001\n",
      "models/text-bison-001\n",
      "models/embedding-gecko-001\n",
      "models/gemini-1.0-pro-latest\n",
      "models/gemini-1.0-pro\n",
      "models/gemini-pro\n",
      "models/gemini-1.0-pro-001\n",
      "models/gemini-1.0-pro-vision-latest\n",
      "models/gemini-pro-vision\n",
      "models/gemini-1.5-pro-latest\n",
      "models/gemini-1.5-pro-001\n",
      "models/gemini-1.5-pro-002\n",
      "models/gemini-1.5-pro\n",
      "models/gemini-1.5-pro-exp-0801\n",
      "models/gemini-1.5-pro-exp-0827\n",
      "models/gemini-1.5-flash-latest\n",
      "models/gemini-1.5-flash-001\n",
      "models/gemini-1.5-flash-001-tuning\n",
      "models/gemini-1.5-flash\n",
      "models/gemini-1.5-flash-exp-0827\n",
      "models/gemini-1.5-flash-002\n",
      "models/gemini-1.5-flash-8b\n",
      "models/gemini-1.5-flash-8b-001\n",
      "models/gemini-1.5-flash-8b-latest\n",
      "models/gemini-1.5-flash-8b-exp-0827\n",
      "models/gemini-1.5-flash-8b-exp-0924\n",
      "models/embedding-001\n",
      "models/text-embedding-004\n",
      "models/aqa\n"
     ]
    }
   ],
   "source": [
    "for model in genai.list_models():\n",
    "  print(model.name)"
   ]
  },
  {
   "cell_type": "markdown",
   "id": "15dfcce5",
   "metadata": {
    "id": "rN49kSI54R1v",
    "papermill": {
     "duration": 0.014373,
     "end_time": "2024-11-14T17:21:27.484485",
     "exception": false,
     "start_time": "2024-11-14T17:21:27.470112",
     "status": "completed"
    },
    "tags": []
   },
   "source": [
    "The [`models.list`](https://ai.google.dev/api/models#method:-models.list) response also returns additional information about the model's capabilities, like the token limits and supported parameters."
   ]
  },
  {
   "cell_type": "code",
   "execution_count": 11,
   "id": "00255360",
   "metadata": {
    "execution": {
     "iopub.execute_input": "2024-11-14T17:21:27.514536Z",
     "iopub.status.busy": "2024-11-14T17:21:27.514136Z",
     "iopub.status.idle": "2024-11-14T17:21:27.565312Z",
     "shell.execute_reply": "2024-11-14T17:21:27.563767Z"
    },
    "id": "k7JJ1K6j4Rl8",
    "papermill": {
     "duration": 0.069187,
     "end_time": "2024-11-14T17:21:27.568004",
     "exception": false,
     "start_time": "2024-11-14T17:21:27.498817",
     "status": "completed"
    },
    "tags": []
   },
   "outputs": [
    {
     "name": "stdout",
     "output_type": "stream",
     "text": [
      "Model(name='models/gemini-1.5-flash',\n",
      "      base_model_id='',\n",
      "      version='001',\n",
      "      display_name='Gemini 1.5 Flash',\n",
      "      description='Fast and versatile multimodal model for scaling across diverse tasks',\n",
      "      input_token_limit=1000000,\n",
      "      output_token_limit=8192,\n",
      "      supported_generation_methods=['generateContent', 'countTokens'],\n",
      "      temperature=1.0,\n",
      "      max_temperature=2.0,\n",
      "      top_p=0.95,\n",
      "      top_k=40)\n"
     ]
    }
   ],
   "source": [
    "for model in genai.list_models():\n",
    "  if model.name == 'models/gemini-1.5-flash':\n",
    "    print(model)\n",
    "    break"
   ]
  },
  {
   "cell_type": "markdown",
   "id": "36ec1d79",
   "metadata": {
    "id": "5rU_UBlZdooM",
    "papermill": {
     "duration": 0.013996,
     "end_time": "2024-11-14T17:21:27.596459",
     "exception": false,
     "start_time": "2024-11-14T17:21:27.582463",
     "status": "completed"
    },
    "tags": []
   },
   "source": [
    "## Explore generation parameters\n",
    "\n"
   ]
  },
  {
   "cell_type": "markdown",
   "id": "c0a0237a",
   "metadata": {
    "id": "G7NfEizeipbW",
    "papermill": {
     "duration": 0.01466,
     "end_time": "2024-11-14T17:21:27.625738",
     "exception": false,
     "start_time": "2024-11-14T17:21:27.611078",
     "status": "completed"
    },
    "tags": []
   },
   "source": [
    "### Output length\n",
    "\n",
    "When generating text with an LLM, the output length affects cost and performance. Generating more tokens increases computation, leading to higher energy consumption, latency, and cost.\n",
    "\n",
    "To stop the model from generating tokens past a limit, you can specify the `max_output_tokens` parameter when using the Gemini API. Specifying this parameter does not influence the generation of the output tokens, so the output will not become more stylistically or textually succinct, but it will stop generating tokens once the specified length is reached. Prompt engineering may be required to generate a more complete output for your given limit."
   ]
  },
  {
   "cell_type": "code",
   "execution_count": 12,
   "id": "3a7b0c3c",
   "metadata": {
    "execution": {
     "iopub.execute_input": "2024-11-14T17:21:27.656538Z",
     "iopub.status.busy": "2024-11-14T17:21:27.656124Z",
     "iopub.status.idle": "2024-11-14T17:21:29.033985Z",
     "shell.execute_reply": "2024-11-14T17:21:29.032922Z"
    },
    "id": "qVf23JsIi9ma",
    "papermill": {
     "duration": 1.396528,
     "end_time": "2024-11-14T17:21:29.036692",
     "exception": false,
     "start_time": "2024-11-14T17:21:27.640164",
     "status": "completed"
    },
    "tags": []
   },
   "outputs": [
    {
     "name": "stdout",
     "output_type": "stream",
     "text": [
      "## The Enduring Legacy: Olives in Modern Society\n",
      "\n",
      "The humble olive, a small, wrinkled fruit, has woven itself into the fabric of human civilization for millennia.  From the ancient olive groves of the Mediterranean to the bustling supermarkets of the modern world, the olive has defied the passage of time, proving its versatility and enduring importance. Far more than just a culinary staple, olives have played a pivotal role in shaping landscapes, cultures, economies, and even health practices, cementing their place as a symbol of resilience and enduring value in modern society.\n",
      "\n",
      "**A Legacy of Sustenance and Symbolism:**\n",
      "\n",
      "The olive's journey into modern society is deeply rooted in history. For ancient civilizations, the olive tree represented much more than a source of food.  Its robust, long-lasting wood provided material for construction and tools, while its leaves were used for medicinal purposes. The olive oil produced, however, was the true treasure, fueling lamps, lubricating machinery, and serving as a vital component\n"
     ]
    }
   ],
   "source": [
    "short_model = genai.GenerativeModel(\n",
    "    'gemini-1.5-flash',\n",
    "    generation_config=genai.GenerationConfig(max_output_tokens=200))\n",
    "\n",
    "response = short_model.generate_content('Write a 1000 word essay on the importance of olives in modern society.')\n",
    "print(response.text)"
   ]
  },
  {
   "cell_type": "code",
   "execution_count": 13,
   "id": "9fd85589",
   "metadata": {
    "execution": {
     "iopub.execute_input": "2024-11-14T17:21:29.067505Z",
     "iopub.status.busy": "2024-11-14T17:21:29.067104Z",
     "iopub.status.idle": "2024-11-14T17:21:29.887236Z",
     "shell.execute_reply": "2024-11-14T17:21:29.885945Z"
    },
    "id": "W-3kR2F5kdMR",
    "papermill": {
     "duration": 0.838494,
     "end_time": "2024-11-14T17:21:29.889814",
     "exception": false,
     "start_time": "2024-11-14T17:21:29.051320",
     "status": "completed"
    },
    "tags": []
   },
   "outputs": [
    {
     "name": "stdout",
     "output_type": "stream",
     "text": [
      "From ancient groves, a verdant grace,\n",
      "The olive, steadfast, holds its place.\n",
      "A symbol strong, a taste divine,\n",
      "A vital thread in life's design.\n",
      "\n",
      "On tables spread, a humble treat,\n",
      "Its briny kiss, a flavor sweet.\n",
      "From vibrant oil, a golden sheen,\n",
      "To savory bites, a kitchen scene.\n",
      "\n",
      "Beyond the plate, a source of might,\n",
      "For skin and heart, a guiding light.\n",
      "A silent power, ever green,\n",
      "The olive's gift, a modern scene. \n",
      "\n"
     ]
    }
   ],
   "source": [
    "response = short_model.generate_content('Write a short poem on the importance of olives in modern society.')\n",
    "print(response.text)"
   ]
  },
  {
   "cell_type": "markdown",
   "id": "bbdce545",
   "metadata": {
    "id": "3ZhDSLB6lqqB",
    "papermill": {
     "duration": 0.015425,
     "end_time": "2024-11-14T17:21:29.920821",
     "exception": false,
     "start_time": "2024-11-14T17:21:29.905396",
     "status": "completed"
    },
    "tags": []
   },
   "source": [
    "Explore with your own prompts. Try a prompt with a restrictive output limit and then adjust the prompt to work within that limit."
   ]
  },
  {
   "cell_type": "markdown",
   "id": "d798c749",
   "metadata": {
    "id": "alx-WaAvir_9",
    "papermill": {
     "duration": 0.015773,
     "end_time": "2024-11-14T17:21:29.952505",
     "exception": false,
     "start_time": "2024-11-14T17:21:29.936732",
     "status": "completed"
    },
    "tags": []
   },
   "source": [
    "### Temperature\n",
    "\n",
    "Temperature controls the degree of randomness in token selection. Higher temperatures result in a higher number of candidate tokens from which the next output token is selected, and can produce more diverse results, while lower temperatures have the opposite effect, such that a temperature of 0 results in greedy decoding, selecting the most probable token at each step.\n",
    "\n",
    "Temperature doesn't provide any guarantees of randomness, but it can be used to \"nudge\" the output somewhat.\n",
    "\n",
    "**Note that if you see a 429 Resource Exhausted error here, you may be able to edit the words in the prompt slightly to progress.**"
   ]
  },
  {
   "cell_type": "code",
   "execution_count": 14,
   "id": "49c471d9",
   "metadata": {
    "execution": {
     "iopub.execute_input": "2024-11-14T17:21:29.988067Z",
     "iopub.status.busy": "2024-11-14T17:21:29.987642Z",
     "iopub.status.idle": "2024-11-14T17:21:31.290908Z",
     "shell.execute_reply": "2024-11-14T17:21:31.289554Z"
    },
    "id": "SHraGMzqnZqt",
    "papermill": {
     "duration": 1.324094,
     "end_time": "2024-11-14T17:21:31.293418",
     "exception": false,
     "start_time": "2024-11-14T17:21:29.969324",
     "status": "completed"
    },
    "tags": []
   },
   "outputs": [
    {
     "name": "stdout",
     "output_type": "stream",
     "text": [
      "Indigo \n",
      " -------------------------\n",
      "Blue \n",
      " -------------------------\n",
      "Teal \n",
      " -------------------------\n",
      "Blue. \n",
      " -------------------------\n",
      "Blue \n",
      " -------------------------\n"
     ]
    }
   ],
   "source": [
    "from google.api_core import retry\n",
    "\n",
    "high_temp_model = genai.GenerativeModel(\n",
    "    'gemini-1.5-flash',\n",
    "    generation_config=genai.GenerationConfig(temperature=2.0))\n",
    "\n",
    "\n",
    "# When running lots of queries, it's a good practice to use a retry policy so your code\n",
    "# automatically retries when hitting Resource Exhausted (quota limit) errors.\n",
    "retry_policy = {\n",
    "    \"retry\": retry.Retry(predicate=retry.if_transient_error, initial=10, multiplier=1.5, timeout=300)\n",
    "}\n",
    "\n",
    "for _ in range(5):\n",
    "  response = high_temp_model.generate_content('Pick a random colour... (respond in a single word)',\n",
    "                                              request_options=retry_policy)\n",
    "  if response.parts:\n",
    "    print(response.text, '-' * 25)"
   ]
  },
  {
   "cell_type": "markdown",
   "id": "b3df1dfa",
   "metadata": {
    "id": "z3J4pCTuof7e",
    "papermill": {
     "duration": 0.015657,
     "end_time": "2024-11-14T17:21:31.325132",
     "exception": false,
     "start_time": "2024-11-14T17:21:31.309475",
     "status": "completed"
    },
    "tags": []
   },
   "source": [
    "Now try the same prompt with temperature set to zero. Note that the output is not completely deterministic, as other parameters affect token selection, but the results will tend to be more stable."
   ]
  },
  {
   "cell_type": "code",
   "execution_count": 15,
   "id": "171ececf",
   "metadata": {
    "execution": {
     "iopub.execute_input": "2024-11-14T17:21:31.356281Z",
     "iopub.status.busy": "2024-11-14T17:21:31.355891Z",
     "iopub.status.idle": "2024-11-14T17:21:32.555275Z",
     "shell.execute_reply": "2024-11-14T17:21:32.553895Z"
    },
    "id": "clymkWv-PfUZ",
    "papermill": {
     "duration": 1.217743,
     "end_time": "2024-11-14T17:21:32.557672",
     "exception": false,
     "start_time": "2024-11-14T17:21:31.339929",
     "status": "completed"
    },
    "tags": []
   },
   "outputs": [
    {
     "name": "stdout",
     "output_type": "stream",
     "text": [
      "Purple \n",
      " -------------------------\n",
      "Purple \n",
      " -------------------------\n",
      "Purple \n",
      " -------------------------\n",
      "Purple \n",
      " -------------------------\n",
      "Purple \n",
      " -------------------------\n"
     ]
    }
   ],
   "source": [
    "low_temp_model = genai.GenerativeModel(\n",
    "    'gemini-1.5-flash',\n",
    "    generation_config=genai.GenerationConfig(temperature=0.0))\n",
    "\n",
    "for _ in range(5):\n",
    "  response = low_temp_model.generate_content('Pick a random colour... (respond in a single word)',\n",
    "                                             request_options=retry_policy)\n",
    "  if response.parts:\n",
    "    print(response.text, '-' * 25)"
   ]
  },
  {
   "cell_type": "markdown",
   "id": "7325afae",
   "metadata": {
    "id": "St5nt3vzitsZ",
    "papermill": {
     "duration": 0.020187,
     "end_time": "2024-11-14T17:21:32.596446",
     "exception": false,
     "start_time": "2024-11-14T17:21:32.576259",
     "status": "completed"
    },
    "tags": []
   },
   "source": [
    "### Top-K and top-P\n",
    "\n",
    "Like temperature, top-K and top-P parameters are also used to control the diversity of the model's output.\n",
    "\n",
    "Top-K is a positive integer that defines the number of most probable tokens from which to select the output token. A top-K of 1 selects a single token, performing greedy decoding.\n",
    "\n",
    "Top-P defines the probability threshold that, once cumulatively exceeded, tokens stop being selected as candidates. A top-P of 0 is typically equivalent to greedy decoding, and a top-P of 1 typically selects every token in the model's vocabulary.\n",
    "\n",
    "When both are supplied, the Gemini API will filter top-K tokens first, then top-P and then finally sample from the candidate tokens using the supplied temperature.\n",
    "\n",
    "Run this example a number of times, change the settings and observe the change in output."
   ]
  },
  {
   "cell_type": "code",
   "execution_count": 16,
   "id": "dbb457ee",
   "metadata": {
    "execution": {
     "iopub.execute_input": "2024-11-14T17:21:32.640729Z",
     "iopub.status.busy": "2024-11-14T17:21:32.640306Z",
     "iopub.status.idle": "2024-11-14T17:21:35.605671Z",
     "shell.execute_reply": "2024-11-14T17:21:35.604593Z"
    },
    "id": "lPlzpEavUV8F",
    "papermill": {
     "duration": 2.991706,
     "end_time": "2024-11-14T17:21:35.608306",
     "exception": false,
     "start_time": "2024-11-14T17:21:32.616600",
     "status": "completed"
    },
    "tags": []
   },
   "outputs": [
    {
     "name": "stdout",
     "output_type": "stream",
     "text": [
      "Bartholomew was no ordinary tabby. He wasn't content with sunbeams and catnip, he craved adventure. He yearned for the taste of freedom, the thrill of the unknown. His opportunity arrived one sunny afternoon, when the back gate swung open, left carelessly ajar by a forgetful human.\n",
      "\n",
      "Bartholomew, with a mischievous glint in his eye, slipped out. The world was a symphony of scents and sounds: the earthy smell of freshly cut grass, the buzzing of bees, the distant chatter of children. He stalked through the garden, his tail held high, a hunter on the prowl. He chased butterflies, wrestled with a plump bumblebee, and took a daring leap onto the roof of the shed, surveying his kingdom with a proud purr.\n",
      "\n",
      "Then, a flash of movement caught his eye. A squirrel, bold and bushy-tailed, was scampering up a towering oak. The chase was on! Bartholomew, a blur of orange and white, sprinted after the squirrel, his claws scraping on the rough bark. He leaped, missing by a whisker, and landed gracefully on a low-hanging branch. The squirrel, seemingly unimpressed, continued its ascent.\n",
      "\n",
      "Bartholomew, undeterred, scaled the oak, his agile body defying gravity. He reached the top, his heart pounding with exhilaration. But the squirrel had vanished, leaving only the rustling of leaves and the chirping of birds. A wave of disappointment washed over him, but it was quickly replaced by a sense of accomplishment. He had climbed the highest tree in the garden, a feat no other cat dared to attempt.\n",
      "\n",
      "He surveyed his surroundings. The world stretched before him, a tapestry of green and blue. In the distance, he saw a shimmering river, and a tiny, red-roofed cottage nestled amongst the trees. A new adventure beckoned.\n",
      "\n",
      "With a determined meow, Bartholomew leaped from the oak, landing with a soft thud on the earth below. He was home, yet he was a changed cat. He had tasted freedom, felt the thrill of the chase, and conquered his fear. He had become, in his own way, a hero.\n",
      "\n",
      "As he walked back through the open gate, his human, oblivious to his adventure, greeted him with a gentle pat. Bartholomew, with a secret smile, curled up on his favorite cushion, a contented purr rumbling in his chest. He had his adventures, and now he had his home. The perfect balance, he thought, as he drifted off to sleep, the world a blur of sunshine and dreams. \n",
      "\n"
     ]
    }
   ],
   "source": [
    "model = genai.GenerativeModel(\n",
    "    'gemini-1.5-flash-001',\n",
    "    generation_config=genai.GenerationConfig(\n",
    "        # These are the default values for gemini-1.5-flash-001.\n",
    "        temperature=1.0,\n",
    "        top_k=64,\n",
    "        top_p=0.95,\n",
    "    ))\n",
    "\n",
    "story_prompt = \"You are a creative writer. Write a short story about a cat who goes on an adventure.\"\n",
    "response = model.generate_content(story_prompt, request_options=retry_policy)\n",
    "print(response.text)"
   ]
  },
  {
   "cell_type": "markdown",
   "id": "3c7407e0",
   "metadata": {
    "id": "rMrYs1koY6DX",
    "papermill": {
     "duration": 0.0149,
     "end_time": "2024-11-14T17:21:35.638506",
     "exception": false,
     "start_time": "2024-11-14T17:21:35.623606",
     "status": "completed"
    },
    "tags": []
   },
   "source": [
    "## Prompting\n",
    "\n",
    "This section contains some prompts from the chapter for you to try out directly in the API. Try changing the text here to see how each prompt performs with different instructions, more examples, or any other changes you can think of."
   ]
  },
  {
   "cell_type": "markdown",
   "id": "bbb12c20",
   "metadata": {
    "id": "hhj_tQidZJP7",
    "papermill": {
     "duration": 0.01603,
     "end_time": "2024-11-14T17:21:35.669758",
     "exception": false,
     "start_time": "2024-11-14T17:21:35.653728",
     "status": "completed"
    },
    "tags": []
   },
   "source": [
    "### Zero-shot\n",
    "\n",
    "Zero-shot prompts are prompts that describe the request for the model directly.\n",
    "\n",
    "<table align=left>\n",
    "  <td>\n",
    "    <a target=\"_blank\" href=\"https://aistudio.google.com/prompts/1gzKKgDHwkAvexG5Up0LMtl1-6jKMKe4g\"><img src=\"https://ai.google.dev/site-assets/images/marketing/home/icon-ais.png\" style=\"height: 24px\" height=24/> Open in AI Studio</a>\n",
    "  </td>\n",
    "</table>"
   ]
  },
  {
   "cell_type": "code",
   "execution_count": 17,
   "id": "4fe4ea81",
   "metadata": {
    "execution": {
     "iopub.execute_input": "2024-11-14T17:21:35.703378Z",
     "iopub.status.busy": "2024-11-14T17:21:35.702966Z",
     "iopub.status.idle": "2024-11-14T17:21:36.097234Z",
     "shell.execute_reply": "2024-11-14T17:21:36.095947Z"
    },
    "id": "1_t-cwnDZzbH",
    "papermill": {
     "duration": 0.414412,
     "end_time": "2024-11-14T17:21:36.099834",
     "exception": false,
     "start_time": "2024-11-14T17:21:35.685422",
     "status": "completed"
    },
    "tags": []
   },
   "outputs": [
    {
     "name": "stdout",
     "output_type": "stream",
     "text": [
      "Sentiment: **POSITIVE**\n"
     ]
    }
   ],
   "source": [
    "model = genai.GenerativeModel(\n",
    "    'gemini-1.5-flash-001',\n",
    "    generation_config=genai.GenerationConfig(\n",
    "        temperature=0.1,\n",
    "        top_p=1,\n",
    "        max_output_tokens=5,\n",
    "    ))\n",
    "\n",
    "zero_shot_prompt = \"\"\"Classify movie reviews as POSITIVE, NEUTRAL or NEGATIVE.\n",
    "Review: \"Her\" is a disturbing study revealing the direction\n",
    "humanity is headed if AI is allowed to keep evolving,\n",
    "unchecked. I wish there were more movies like this masterpiece.\n",
    "Sentiment: \"\"\"\n",
    "\n",
    "response = model.generate_content(zero_shot_prompt, request_options=retry_policy)\n",
    "print(response.text)"
   ]
  },
  {
   "cell_type": "markdown",
   "id": "d37932e0",
   "metadata": {
    "id": "3b5568bdeb11",
    "papermill": {
     "duration": 0.01503,
     "end_time": "2024-11-14T17:21:36.130394",
     "exception": false,
     "start_time": "2024-11-14T17:21:36.115364",
     "status": "completed"
    },
    "tags": []
   },
   "source": [
    "#### Enum mode\n",
    "\n",
    "The models are trained to generate text, and can sometimes produce more text than you may wish for. In the preceding example, the model will output the label, sometimes it can include a preceding \"Sentiment\" label, and without an output token limit, it may also add explanatory text afterwards.\n",
    "\n",
    "The Gemini API has an [Enum mode](https://github.com/google-gemini/cookbook/blob/main/quickstarts/Enum.ipynb) feature that allows you to constrain the output to a fixed set of values."
   ]
  },
  {
   "cell_type": "code",
   "execution_count": 18,
   "id": "84f74ae1",
   "metadata": {
    "execution": {
     "iopub.execute_input": "2024-11-14T17:21:36.162382Z",
     "iopub.status.busy": "2024-11-14T17:21:36.162008Z",
     "iopub.status.idle": "2024-11-14T17:22:55.107206Z",
     "shell.execute_reply": "2024-11-14T17:22:55.105813Z"
    },
    "id": "ad118a56c598",
    "papermill": {
     "duration": 78.979191,
     "end_time": "2024-11-14T17:22:55.124777",
     "exception": false,
     "start_time": "2024-11-14T17:21:36.145586",
     "status": "completed"
    },
    "tags": []
   },
   "outputs": [
    {
     "name": "stdout",
     "output_type": "stream",
     "text": [
      "positive\n"
     ]
    }
   ],
   "source": [
    "import enum\n",
    "\n",
    "class Sentiment(enum.Enum):\n",
    "    POSITIVE = \"positive\"\n",
    "    NEUTRAL = \"neutral\"\n",
    "    NEGATIVE = \"negative\"\n",
    "\n",
    "\n",
    "model = genai.GenerativeModel(\n",
    "    'gemini-1.5-flash-001',\n",
    "    generation_config=genai.GenerationConfig(\n",
    "        response_mime_type=\"text/x.enum\",\n",
    "        response_schema=Sentiment\n",
    "    ))\n",
    "\n",
    "response = model.generate_content(zero_shot_prompt, request_options=retry_policy)\n",
    "print(response.text)"
   ]
  },
  {
   "cell_type": "markdown",
   "id": "f18c2253",
   "metadata": {
    "id": "0udiSwNbv45W",
    "papermill": {
     "duration": 0.014868,
     "end_time": "2024-11-14T17:22:55.154811",
     "exception": false,
     "start_time": "2024-11-14T17:22:55.139943",
     "status": "completed"
    },
    "tags": []
   },
   "source": [
    "### One-shot and few-shot\n",
    "\n",
    "Providing an example of the expected response is known as a \"one-shot\" prompt. When you provide multiple examples, it is a \"few-shot\" prompt.\n",
    "\n",
    "<table align=left>\n",
    "  <td>\n",
    "    <a target=\"_blank\" href=\"https://aistudio.google.com/prompts/1jjWkjUSoMXmLvMJ7IzADr_GxHPJVV2bg\"><img src=\"https://ai.google.dev/site-assets/images/marketing/home/icon-ais.png\" style=\"height: 24px\" height=24/> Open in AI Studio</a>\n",
    "  </td>\n",
    "</table>\n"
   ]
  },
  {
   "cell_type": "code",
   "execution_count": 19,
   "id": "b12f5598",
   "metadata": {
    "execution": {
     "iopub.execute_input": "2024-11-14T17:22:55.187125Z",
     "iopub.status.busy": "2024-11-14T17:22:55.186744Z",
     "iopub.status.idle": "2024-11-14T17:22:55.550961Z",
     "shell.execute_reply": "2024-11-14T17:22:55.549733Z"
    },
    "id": "hd4mVUukwOKZ",
    "papermill": {
     "duration": 0.383403,
     "end_time": "2024-11-14T17:22:55.553477",
     "exception": false,
     "start_time": "2024-11-14T17:22:55.170074",
     "status": "completed"
    },
    "tags": []
   },
   "outputs": [
    {
     "name": "stdout",
     "output_type": "stream",
     "text": [
      "```json\n",
      "{\n",
      "\"size\": \"large\",\n",
      "\"type\": \"normal\",\n",
      "\"ingredients\": [\"cheese\", \"pineapple\"]\n",
      "}\n",
      "``` \n",
      "\n"
     ]
    }
   ],
   "source": [
    "model = genai.GenerativeModel(\n",
    "    'gemini-1.5-flash-latest',\n",
    "    generation_config=genai.GenerationConfig(\n",
    "        temperature=0.1,\n",
    "        top_p=1,\n",
    "        max_output_tokens=250,\n",
    "    ))\n",
    "\n",
    "few_shot_prompt = \"\"\"Parse a customer's pizza order into valid JSON:\n",
    "\n",
    "EXAMPLE:\n",
    "I want a small pizza with cheese, tomato sauce, and pepperoni.\n",
    "JSON Response:\n",
    "```\n",
    "{\n",
    "\"size\": \"small\",\n",
    "\"type\": \"normal\",\n",
    "\"ingredients\": [\"cheese\", \"tomato sauce\", \"peperoni\"]\n",
    "}\n",
    "```\n",
    "\n",
    "EXAMPLE:\n",
    "Can I get a large pizza with tomato sauce, basil and mozzarella\n",
    "JSON Response:\n",
    "```\n",
    "{\n",
    "\"size\": \"large\",\n",
    "\"type\": \"normal\",\n",
    "\"ingredients\": [\"tomato sauce\", \"basil\", \"mozzarella\"]\n",
    "}\n",
    "\n",
    "ORDER:\n",
    "\"\"\"\n",
    "\n",
    "customer_order = \"Give me a large with cheese & pineapple\"\n",
    "\n",
    "\n",
    "response = model.generate_content([few_shot_prompt, customer_order], request_options=retry_policy)\n",
    "print(response.text)"
   ]
  },
  {
   "cell_type": "markdown",
   "id": "ceb17182",
   "metadata": {
    "id": "021293096f08",
    "papermill": {
     "duration": 0.015096,
     "end_time": "2024-11-14T17:22:55.584713",
     "exception": false,
     "start_time": "2024-11-14T17:22:55.569617",
     "status": "completed"
    },
    "tags": []
   },
   "source": [
    "#### JSON mode\n",
    "\n",
    "To provide control over the schema, and to ensure that you only receive JSON (with no other text or markdown), you can use the Gemini API's [JSON mode](https://github.com/google-gemini/cookbook/blob/main/quickstarts/JSON_mode.ipynb). This forces the model to constrain decoding, such that token selection is guided by the supplied schema."
   ]
  },
  {
   "cell_type": "code",
   "execution_count": 20,
   "id": "f0399dfa",
   "metadata": {
    "execution": {
     "iopub.execute_input": "2024-11-14T17:22:55.619332Z",
     "iopub.status.busy": "2024-11-14T17:22:55.618922Z",
     "iopub.status.idle": "2024-11-14T17:22:56.084442Z",
     "shell.execute_reply": "2024-11-14T17:22:56.083377Z"
    },
    "id": "50fbf0260912",
    "papermill": {
     "duration": 0.486586,
     "end_time": "2024-11-14T17:22:56.087325",
     "exception": false,
     "start_time": "2024-11-14T17:22:55.600739",
     "status": "completed"
    },
    "tags": []
   },
   "outputs": [
    {
     "name": "stdout",
     "output_type": "stream",
     "text": [
      "{\"ingredients\": [\"apple\", \"chocolate\"], \"size\": \"large\", \"type\": \"dessert\"}\n",
      "\n"
     ]
    }
   ],
   "source": [
    "import typing_extensions as typing\n",
    "\n",
    "class PizzaOrder(typing.TypedDict):\n",
    "    size: str\n",
    "    ingredients: list[str]\n",
    "    type: str\n",
    "\n",
    "\n",
    "model = genai.GenerativeModel(\n",
    "    'gemini-1.5-flash-latest',\n",
    "    generation_config=genai.GenerationConfig(\n",
    "        temperature=0.1,\n",
    "        response_mime_type=\"application/json\",\n",
    "        response_schema=PizzaOrder,\n",
    "    ))\n",
    "\n",
    "response = model.generate_content(\"Can I have a large dessert pizza with apple and chocolate\")\n",
    "print(response.text)"
   ]
  },
  {
   "cell_type": "markdown",
   "id": "777de2dc",
   "metadata": {
    "id": "4a93e338e57c",
    "papermill": {
     "duration": 0.015805,
     "end_time": "2024-11-14T17:22:56.119170",
     "exception": false,
     "start_time": "2024-11-14T17:22:56.103365",
     "status": "completed"
    },
    "tags": []
   },
   "source": [
    "### Chain of Thought (CoT)\n",
    "\n",
    "Direct prompting on LLMs can return answers quickly and (in terms of output token usage) efficiently, but they can be prone to hallucination. The answer may \"look\" correct (in terms of language and syntax) but is incorrect in terms of factuality and reasoning.\n",
    "\n",
    "Chain-of-Thought prompting is a technique where you instruct the model to output intermediate reasoning steps, and it typically gets better results, especially when combined with few-shot examples. It is worth noting that this technique doesn't completely eliminate hallucinations, and that it tends to cost more to run, due to the increased token count.\n",
    "\n",
    "As models like the Gemini family are trained to be \"chatty\" and provide reasoning steps, you can ask the model to be more direct in the prompt."
   ]
  },
  {
   "cell_type": "code",
   "execution_count": 21,
   "id": "bdd95ed0",
   "metadata": {
    "execution": {
     "iopub.execute_input": "2024-11-14T17:22:56.152015Z",
     "iopub.status.busy": "2024-11-14T17:22:56.151550Z",
     "iopub.status.idle": "2024-11-14T17:22:56.410296Z",
     "shell.execute_reply": "2024-11-14T17:22:56.409086Z"
    },
    "id": "5715555db1c1",
    "papermill": {
     "duration": 0.277619,
     "end_time": "2024-11-14T17:22:56.412589",
     "exception": false,
     "start_time": "2024-11-14T17:22:56.134970",
     "status": "completed"
    },
    "tags": []
   },
   "outputs": [
    {
     "name": "stdout",
     "output_type": "stream",
     "text": [
      "52 \n",
      "\n"
     ]
    }
   ],
   "source": [
    "prompt = \"\"\"When I was 4 years old, my partner was 3 times my age. Now, I\n",
    "am 20 years old. How old is my partner? Return the answer directly.\"\"\"\n",
    "\n",
    "model = genai.GenerativeModel('gemini-1.5-flash-latest')\n",
    "response = model.generate_content(prompt, request_options=retry_policy)\n",
    "\n",
    "print(response.text)"
   ]
  },
  {
   "cell_type": "markdown",
   "id": "197fca47",
   "metadata": {
    "id": "e12b19677bfd",
    "papermill": {
     "duration": 0.015811,
     "end_time": "2024-11-14T17:22:56.444524",
     "exception": false,
     "start_time": "2024-11-14T17:22:56.428713",
     "status": "completed"
    },
    "tags": []
   },
   "source": [
    "Now try the same approach, but indicate to the model that it should \"think step by step\"."
   ]
  },
  {
   "cell_type": "code",
   "execution_count": 22,
   "id": "2bbc2672",
   "metadata": {
    "execution": {
     "iopub.execute_input": "2024-11-14T17:22:56.477645Z",
     "iopub.status.busy": "2024-11-14T17:22:56.477219Z",
     "iopub.status.idle": "2024-11-14T17:22:57.194903Z",
     "shell.execute_reply": "2024-11-14T17:22:57.193485Z"
    },
    "id": "ffd7536a481f",
    "papermill": {
     "duration": 0.736844,
     "end_time": "2024-11-14T17:22:57.197246",
     "exception": false,
     "start_time": "2024-11-14T17:22:56.460402",
     "status": "completed"
    },
    "tags": []
   },
   "outputs": [
    {
     "name": "stdout",
     "output_type": "stream",
     "text": [
      "Here's how to solve this:\n",
      "\n",
      "* **When you were 4, your partner was 3 times your age:** 4 years old * 3 = 12 years old\n",
      "* **The age difference between you and your partner is:** 12 years old - 4 years old = 8 years\n",
      "* **Your partner is always 8 years older than you.**\n",
      "* **Now you are 20 years old, so your partner is:** 20 years old + 8 years = 28 years old\n",
      "\n",
      "**Therefore, your partner is 28 years old.** \n",
      "\n"
     ]
    }
   ],
   "source": [
    "prompt = \"\"\"When I was 4 years old, my partner was 3 times my age. Now,\n",
    "I am 20 years old. How old is my partner? Let's think step by step.\"\"\"\n",
    "\n",
    "response = model.generate_content(prompt, request_options=retry_policy)\n",
    "print(response.text)"
   ]
  },
  {
   "cell_type": "markdown",
   "id": "dff02af1",
   "metadata": {
    "id": "oiLgBQJj0V53",
    "papermill": {
     "duration": 0.01584,
     "end_time": "2024-11-14T17:22:57.229103",
     "exception": false,
     "start_time": "2024-11-14T17:22:57.213263",
     "status": "completed"
    },
    "tags": []
   },
   "source": [
    "### ReAct: Reason and act\n",
    "\n",
    "In this example you will run a ReAct prompt directly in the Gemini API and perform the searching steps yourself. As this prompt follows a well-defined structure, there are frameworks available that wrap the prompt into easier-to-use APIs that make tool calls automatically, such as the LangChain example from the chapter.\n",
    "\n",
    "To try this out with the Wikipedia search engine, check out the [Searching Wikipedia with ReAct](https://github.com/google-gemini/cookbook/blob/main/examples/Search_Wikipedia_using_ReAct.ipynb) cookbook example.\n",
    "\n",
    "\n",
    "> Note: The prompt and in-context examples used here are from [https://github.com/ysymyth/ReAct](https://github.com/ysymyth/ReAct) which is published under a [MIT license](https://opensource.org/licenses/MIT), Copyright (c) 2023 Shunyu Yao.\n",
    "\n",
    "<table align=left>\n",
    "  <td>\n",
    "    <a target=\"_blank\" href=\"https://aistudio.google.com/prompts/18oo63Lwosd-bQ6Ay51uGogB3Wk3H8XMO\"><img src=\"https://ai.google.dev/site-assets/images/marketing/home/icon-ais.png\" style=\"height: 24px\" height=24/> Open in AI Studio</a>\n",
    "  </td>\n",
    "</table>\n"
   ]
  },
  {
   "cell_type": "code",
   "execution_count": 23,
   "id": "e46b75a2",
   "metadata": {
    "execution": {
     "iopub.execute_input": "2024-11-14T17:22:57.261953Z",
     "iopub.status.busy": "2024-11-14T17:22:57.261522Z",
     "iopub.status.idle": "2024-11-14T17:22:57.268759Z",
     "shell.execute_reply": "2024-11-14T17:22:57.267669Z"
    },
    "id": "cBgyNJ5z0VSs",
    "papermill": {
     "duration": 0.026365,
     "end_time": "2024-11-14T17:22:57.271078",
     "exception": false,
     "start_time": "2024-11-14T17:22:57.244713",
     "status": "completed"
    },
    "tags": []
   },
   "outputs": [],
   "source": [
    "model_instructions = \"\"\"\n",
    "Solve a question answering task with interleaving Thought, Action, Observation steps. Thought can reason about the current situation,\n",
    "Observation is understanding relevant information from an Action's output and Action can be one of three types:\n",
    " (1) <search>entity</search>, which searches the exact entity on Wikipedia and returns the first paragraph if it exists. If not, it\n",
    "     will return some similar entities to search and you can try to search the information from those topics.\n",
    " (2) <lookup>keyword</lookup>, which returns the next sentence containing keyword in the current context. This only does exact matches,\n",
    "     so keep your searches short.\n",
    " (3) <finish>answer</finish>, which returns the answer and finishes the task.\n",
    "\"\"\"\n",
    "\n",
    "example1 = \"\"\"Question\n",
    "Musician and satirist Allie Goertz wrote a song about the \"The Simpsons\" character Milhouse, who Matt Groening named after who?\n",
    "\n",
    "Thought 1\n",
    "The question simplifies to \"The Simpsons\" character Milhouse is named after who. I only need to search Milhouse and find who it is named after.\n",
    "\n",
    "Action 1\n",
    "<search>Milhouse</search>\n",
    "\n",
    "Observation 1\n",
    "Milhouse Mussolini Van Houten is a recurring character in the Fox animated television series The Simpsons voiced by Pamela Hayden and created by Matt Groening.\n",
    "\n",
    "Thought 2\n",
    "The paragraph does not tell who Milhouse is named after, maybe I can look up \"named after\".\n",
    "\n",
    "Action 2\n",
    "<lookup>named after</lookup>\n",
    "\n",
    "Observation 2\n",
    "Milhouse was named after U.S. president Richard Nixon, whose middle name was Milhous.\n",
    "\n",
    "Thought 3\n",
    "Milhouse was named after U.S. president Richard Nixon, so the answer is Richard Nixon.\n",
    "\n",
    "Action 3\n",
    "<finish>Richard Nixon</finish>\n",
    "\"\"\"\n",
    "\n",
    "example2 = \"\"\"Question\n",
    "What is the elevation range for the area that the eastern sector of the Colorado orogeny extends into?\n",
    "\n",
    "Thought 1\n",
    "I need to search Colorado orogeny, find the area that the eastern sector of the Colorado orogeny extends into, then find the elevation range of the area.\n",
    "\n",
    "Action 1\n",
    "<search>Colorado orogeny</search>\n",
    "\n",
    "Observation 1\n",
    "The Colorado orogeny was an episode of mountain building (an orogeny) in Colorado and surrounding areas.\n",
    "\n",
    "Thought 2\n",
    "It does not mention the eastern sector. So I need to look up eastern sector.\n",
    "\n",
    "Action 2\n",
    "<lookup>eastern sector</lookup>\n",
    "\n",
    "Observation 2\n",
    "The eastern sector extends into the High Plains and is called the Central Plains orogeny.\n",
    "\n",
    "Thought 3\n",
    "The eastern sector of Colorado orogeny extends into the High Plains. So I need to search High Plains and find its elevation range.\n",
    "\n",
    "Action 3\n",
    "<search>High Plains</search>\n",
    "\n",
    "Observation 3\n",
    "High Plains refers to one of two distinct land regions\n",
    "\n",
    "Thought 4\n",
    "I need to instead search High Plains (United States).\n",
    "\n",
    "Action 4\n",
    "<search>High Plains (United States)</search>\n",
    "\n",
    "Observation 4\n",
    "The High Plains are a subregion of the Great Plains. From east to west, the High Plains rise in elevation from around 1,800 to 7,000 ft (550 to 2,130m).\n",
    "\n",
    "Thought 5\n",
    "High Plains rise in elevation from around 1,800 to 7,000 ft, so the answer is 1,800 to 7,000 ft.\n",
    "\n",
    "Action 5\n",
    "<finish>1,800 to 7,000 ft</finish>\n",
    "\"\"\"\n",
    "\n",
    "# Come up with more examples yourself, or take a look through https://github.com/ysymyth/ReAct/"
   ]
  },
  {
   "cell_type": "markdown",
   "id": "8bbfa057",
   "metadata": {
    "id": "C3wbfstjTgey",
    "papermill": {
     "duration": 0.015226,
     "end_time": "2024-11-14T17:22:57.302155",
     "exception": false,
     "start_time": "2024-11-14T17:22:57.286929",
     "status": "completed"
    },
    "tags": []
   },
   "source": [
    "To capture a single step at a time, while ignoring any hallucinated Observation steps, you will use `stop_sequences` to end the generation process. The steps are `Thought`, `Action`, `Observation`, in that order."
   ]
  },
  {
   "cell_type": "code",
   "execution_count": 24,
   "id": "065023e4",
   "metadata": {
    "execution": {
     "iopub.execute_input": "2024-11-14T17:22:57.335366Z",
     "iopub.status.busy": "2024-11-14T17:22:57.334473Z",
     "iopub.status.idle": "2024-11-14T17:23:01.141062Z",
     "shell.execute_reply": "2024-11-14T17:23:01.139666Z"
    },
    "id": "8mxrXRkRTdXm",
    "papermill": {
     "duration": 3.825673,
     "end_time": "2024-11-14T17:23:01.143500",
     "exception": false,
     "start_time": "2024-11-14T17:22:57.317827",
     "status": "completed"
    },
    "tags": []
   },
   "outputs": [
    {
     "name": "stdout",
     "output_type": "stream",
     "text": [
      "Thought 1\n",
      "I need to search for the Transformers paper and then find the authors and their ages to figure out the youngest one.\n",
      "\n",
      "Action 1\n",
      "<search>Transformers paper</search>\n",
      "\n"
     ]
    }
   ],
   "source": [
    "question = \"\"\"Question\n",
    "Who was the youngest author listed on the transformers NLP paper?\n",
    "\"\"\"\n",
    "\n",
    "model = genai.GenerativeModel('gemini-1.5-flash-latest')\n",
    "react_chat = model.start_chat()\n",
    "\n",
    "# You will perform the Action, so generate up to, but not including, the Observation.\n",
    "config = genai.GenerationConfig(stop_sequences=[\"\\nObservation\"])\n",
    "\n",
    "resp = react_chat.send_message(\n",
    "    [model_instructions, example1, example2, question],\n",
    "    generation_config=config,\n",
    "    request_options=retry_policy)\n",
    "print(resp.text)"
   ]
  },
  {
   "cell_type": "markdown",
   "id": "3b2c96e8",
   "metadata": {
    "id": "aW2PIdLbVv3l",
    "papermill": {
     "duration": 0.017137,
     "end_time": "2024-11-14T17:23:01.176933",
     "exception": false,
     "start_time": "2024-11-14T17:23:01.159796",
     "status": "completed"
    },
    "tags": []
   },
   "source": [
    "Now you can perform this research yourself and supply it back to the model."
   ]
  },
  {
   "cell_type": "code",
   "execution_count": 25,
   "id": "398bbeac",
   "metadata": {
    "execution": {
     "iopub.execute_input": "2024-11-14T17:23:01.215132Z",
     "iopub.status.busy": "2024-11-14T17:23:01.214694Z",
     "iopub.status.idle": "2024-11-14T17:23:01.688672Z",
     "shell.execute_reply": "2024-11-14T17:23:01.687443Z"
    },
    "id": "mLMc0DZaV9g2",
    "papermill": {
     "duration": 0.494716,
     "end_time": "2024-11-14T17:23:01.691225",
     "exception": false,
     "start_time": "2024-11-14T17:23:01.196509",
     "status": "completed"
    },
    "tags": []
   },
   "outputs": [
    {
     "name": "stdout",
     "output_type": "stream",
     "text": [
      "Thought 2: The paper doesn't include the authors' ages.  I need to find a different way to determine the youngest author.\n",
      "\n",
      "Action 2: <search>Ashish Vaswani age</search> \n",
      "\n"
     ]
    }
   ],
   "source": [
    "observation = \"\"\"Observation 1\n",
    "[1706.03762] Attention Is All You Need\n",
    "Ashish Vaswani, Noam Shazeer, Niki Parmar, Jakob Uszkoreit, Llion Jones, Aidan N. Gomez, Lukasz Kaiser, Illia Polosukhin\n",
    "We propose a new simple network architecture, the Transformer, based solely on attention mechanisms, dispensing with recurrence and convolutions entirely.\n",
    "\"\"\"\n",
    "resp = react_chat.send_message(observation, generation_config=config, request_options=retry_policy)\n",
    "print(resp.text)"
   ]
  },
  {
   "cell_type": "markdown",
   "id": "d19c553e",
   "metadata": {
    "id": "bo0tzf4nX6dA",
    "papermill": {
     "duration": 0.01579,
     "end_time": "2024-11-14T17:23:01.723245",
     "exception": false,
     "start_time": "2024-11-14T17:23:01.707455",
     "status": "completed"
    },
    "tags": []
   },
   "source": [
    "This process repeats until the `<finish>` action is reached. You can continue running this yourself if you like, or try the [Wikipedia example](https://github.com/google-gemini/cookbook/blob/main/examples/Search_Wikipedia_using_ReAct.ipynb) to see a fully automated ReAct system at work."
   ]
  },
  {
   "cell_type": "markdown",
   "id": "a7475038",
   "metadata": {
    "id": "jPiZ_eIIaVPt",
    "papermill": {
     "duration": 0.015261,
     "end_time": "2024-11-14T17:23:01.754248",
     "exception": false,
     "start_time": "2024-11-14T17:23:01.738987",
     "status": "completed"
    },
    "tags": []
   },
   "source": [
    "## Code prompting"
   ]
  },
  {
   "cell_type": "markdown",
   "id": "bed1eebd",
   "metadata": {
    "id": "ZinKamwXeR6C",
    "papermill": {
     "duration": 0.015775,
     "end_time": "2024-11-14T17:23:01.785997",
     "exception": false,
     "start_time": "2024-11-14T17:23:01.770222",
     "status": "completed"
    },
    "tags": []
   },
   "source": [
    "### Generating code\n",
    "\n",
    "The Gemini family of models can be used to generate code, configuration and scripts. Generating code can be helpful when learning to code, learning a new language or for rapidly generating a first draft.\n",
    "\n",
    "It's important to be aware that since LLMs can't reason, and can repeat training data, it's essential to read and test your code first, and comply with any relevant licenses.\n",
    "\n",
    "<table align=left>\n",
    "  <td>\n",
    "    <a target=\"_blank\" href=\"https://aistudio.google.com/prompts/1YX71JGtzDjXQkgdes8bP6i3oH5lCRKxv\"><img src=\"https://ai.google.dev/site-assets/images/marketing/home/icon-ais.png\" style=\"height: 24px\" height=24/> Open in AI Studio</a>\n",
    "  </td>\n",
    "</table>"
   ]
  },
  {
   "cell_type": "code",
   "execution_count": 26,
   "id": "90d0426a",
   "metadata": {
    "execution": {
     "iopub.execute_input": "2024-11-14T17:23:01.819968Z",
     "iopub.status.busy": "2024-11-14T17:23:01.818943Z",
     "iopub.status.idle": "2024-11-14T17:23:02.214652Z",
     "shell.execute_reply": "2024-11-14T17:23:02.213345Z"
    },
    "id": "fOQP9pqmeUO1",
    "papermill": {
     "duration": 0.415499,
     "end_time": "2024-11-14T17:23:02.217403",
     "exception": false,
     "start_time": "2024-11-14T17:23:01.801904",
     "status": "completed"
    },
    "tags": []
   },
   "outputs": [
    {
     "data": {
      "text/markdown": [
       "```python\n",
       "def factorial(n):\n",
       "  if n == 0:\n",
       "    return 1\n",
       "  else:\n",
       "    return n * factorial(n-1)\n",
       "```"
      ],
      "text/plain": [
       "<IPython.core.display.Markdown object>"
      ]
     },
     "execution_count": 26,
     "metadata": {},
     "output_type": "execute_result"
    }
   ],
   "source": [
    "model = genai.GenerativeModel(\n",
    "    'gemini-1.5-flash-latest',\n",
    "    generation_config=genai.GenerationConfig(\n",
    "        temperature=1,\n",
    "        top_p=1,\n",
    "        max_output_tokens=1024,\n",
    "    ))\n",
    "\n",
    "# Gemini 1.5 models are very chatty, so it helps to specify they stick to the code.\n",
    "code_prompt = \"\"\"\n",
    "Write a Python function to calculate the factorial of a number. No explanation, provide only the code.\n",
    "\"\"\"\n",
    "\n",
    "response = model.generate_content(code_prompt, request_options=retry_policy)\n",
    "Markdown(response.text)"
   ]
  },
  {
   "cell_type": "markdown",
   "id": "0e77f746",
   "metadata": {
    "id": "wlBMWSFhgVRQ",
    "papermill": {
     "duration": 0.01605,
     "end_time": "2024-11-14T17:23:02.251155",
     "exception": false,
     "start_time": "2024-11-14T17:23:02.235105",
     "status": "completed"
    },
    "tags": []
   },
   "source": [
    "### Code execution\n",
    "\n",
    "The Gemini API can automatically run generated code too, and will return the output.\n",
    "\n",
    "<table align=left>\n",
    "  <td>\n",
    "    <a target=\"_blank\" href=\"https://aistudio.google.com/prompts/11veFr_VYEwBWcLkhNLr-maCG0G8sS_7Z\"><img src=\"https://ai.google.dev/site-assets/images/marketing/home/icon-ais.png\" style=\"height: 24px\" height=24/> Open in AI Studio</a>\n",
    "  </td>\n",
    "</table>"
   ]
  },
  {
   "cell_type": "code",
   "execution_count": 27,
   "id": "c0803569",
   "metadata": {
    "execution": {
     "iopub.execute_input": "2024-11-14T17:23:02.285269Z",
     "iopub.status.busy": "2024-11-14T17:23:02.284857Z",
     "iopub.status.idle": "2024-11-14T17:26:50.191895Z",
     "shell.execute_reply": "2024-11-14T17:26:50.190481Z"
    },
    "id": "jT3OfWYfhjRL",
    "papermill": {
     "duration": 227.943003,
     "end_time": "2024-11-14T17:26:50.209920",
     "exception": false,
     "start_time": "2024-11-14T17:23:02.266917",
     "status": "completed"
    },
    "tags": []
   },
   "outputs": [
    {
     "data": {
      "text/markdown": [
       "I understand. I will calculate the sum of the first 14 odd prime numbers. \n",
       "\n",
       "Here's how I'll do it:\n",
       "\n",
       "1. **Identify the first 14 odd primes:** 2, 3, 5, 7, 11, 13, 17, 19, 23, 29, 31, 37, 41, 43\n",
       "2. **Sum them:**  2 + 3 + 5 + 7 + 11 + 13 + 17 + 19 + 23 + 29 + 31 + 37 + 41 + 43 = 280\n",
       "\n",
       "The sum of the first 14 odd prime numbers is **280**. \n"
      ],
      "text/plain": [
       "<IPython.core.display.Markdown object>"
      ]
     },
     "execution_count": 27,
     "metadata": {},
     "output_type": "execute_result"
    }
   ],
   "source": [
    "model = genai.GenerativeModel(\n",
    "    'gemini-1.5-flash-latest',\n",
    "    tools='code_execution',)\n",
    "\n",
    "code_exec_prompt = \"\"\"\n",
    "Calculate the sum of the first 14 prime numbers. Only consider the odd primes, and make sure you count them all.\n",
    "\"\"\"\n",
    "\n",
    "response = model.generate_content(code_exec_prompt, request_options=retry_policy)\n",
    "Markdown(response.text)"
   ]
  },
  {
   "cell_type": "markdown",
   "id": "e413dcf7",
   "metadata": {
    "id": "ZspT1GSkjG6d",
    "papermill": {
     "duration": 0.016033,
     "end_time": "2024-11-14T17:26:50.242180",
     "exception": false,
     "start_time": "2024-11-14T17:26:50.226147",
     "status": "completed"
    },
    "tags": []
   },
   "source": [
    "While this looks like a single-part response, you can inspect the response to see the each of the steps: initial text, code generation, execution results, and final text summary."
   ]
  },
  {
   "cell_type": "code",
   "execution_count": 28,
   "id": "6e3f9ce6",
   "metadata": {
    "execution": {
     "iopub.execute_input": "2024-11-14T17:26:50.276304Z",
     "iopub.status.busy": "2024-11-14T17:26:50.275754Z",
     "iopub.status.idle": "2024-11-14T17:26:50.282218Z",
     "shell.execute_reply": "2024-11-14T17:26:50.280924Z"
    },
    "id": "j4gQVzcRjRX-",
    "papermill": {
     "duration": 0.026572,
     "end_time": "2024-11-14T17:26:50.284969",
     "exception": false,
     "start_time": "2024-11-14T17:26:50.258397",
     "status": "completed"
    },
    "tags": []
   },
   "outputs": [
    {
     "name": "stdout",
     "output_type": "stream",
     "text": [
      "text: \"I understand. I will calculate the sum of the first 14 odd prime numbers. \\n\\nHere\\'s how I\\'ll do it:\\n\\n1. **Identify the first 14 odd primes:** 2, 3, 5, 7, 11, 13, 17, 19, 23, 29, 31, 37, 41, 43\\n2. **Sum them:**  2 + 3 + 5 + 7 + 11 + 13 + 17 + 19 + 23 + 29 + 31 + 37 + 41 + 43 = 280\\n\\nThe sum of the first 14 odd prime numbers is **280**. \\n\"\n",
      "\n",
      "-----\n"
     ]
    }
   ],
   "source": [
    "for part in response.candidates[0].content.parts:\n",
    "  print(part)\n",
    "  print(\"-----\")"
   ]
  },
  {
   "cell_type": "markdown",
   "id": "2e60c557",
   "metadata": {
    "id": "1gUX8QzCj4d5",
    "papermill": {
     "duration": 0.015671,
     "end_time": "2024-11-14T17:26:50.317215",
     "exception": false,
     "start_time": "2024-11-14T17:26:50.301544",
     "status": "completed"
    },
    "tags": []
   },
   "source": [
    "### Explaining code\n",
    "\n",
    "The Gemini family of models can explain code to you too.\n",
    "\n",
    "<table align=left>\n",
    "  <td>\n",
    "    <a target=\"_blank\" href=\"https://aistudio.google.com/prompts/1N7LGzWzCYieyOf_7bAG4plrmkpDNmUyb\"><img src=\"https://ai.google.dev/site-assets/images/marketing/home/icon-ais.png\" style=\"height: 24px\" height=24/> Open in AI Studio</a>\n",
    "  </td>\n",
    "</table>"
   ]
  },
  {
   "cell_type": "code",
   "execution_count": 29,
   "id": "fe2ad6b7",
   "metadata": {
    "execution": {
     "iopub.execute_input": "2024-11-14T17:26:50.350825Z",
     "iopub.status.busy": "2024-11-14T17:26:50.350403Z",
     "iopub.status.idle": "2024-11-14T17:26:53.609190Z",
     "shell.execute_reply": "2024-11-14T17:26:53.608101Z"
    },
    "id": "7_jPMMoxkIEb",
    "papermill": {
     "duration": 3.278276,
     "end_time": "2024-11-14T17:26:53.611483",
     "exception": false,
     "start_time": "2024-11-14T17:26:50.333207",
     "status": "completed"
    },
    "tags": []
   },
   "outputs": [
    {
     "data": {
      "text/markdown": [
       "This file, `git-prompt.sh`, is a Bash script designed to enhance your command prompt experience when working with Git repositories. It adds Git-related information to your prompt, providing insights into the current branch, status, and other relevant details.\n",
       "\n",
       "**Here's a high-level explanation of its purpose and why you might use it:**\n",
       "\n",
       "* **Git Status Integration:** The script fetches Git status information (branch, upstream, changes, etc.) and dynamically incorporates it into your prompt. This gives you a quick visual overview of your repository's state without needing to run `git status` manually.\n",
       "* **Customization:** You can customize the appearance and content of the Git prompt, including colors, symbols, and the level of detail you want displayed. \n",
       "* **User-Friendly:** The script is designed to be easy to use and integrate with standard Bash environments. It sets up the necessary configuration and automatically updates the prompt based on your Git actions.\n",
       "\n",
       "**Key Features:**\n",
       "\n",
       "* **Branch and Status:** Displays the current branch, upstream status (ahead/behind), staged/changed/untracked files, and other relevant information.\n",
       "* **Colors:** Uses color-coding to visually highlight important information.\n",
       "* **Virtual Environment Support:**  Integrates with virtual environments (like virtualenv, conda, and Node.js) to display their names in the prompt.\n",
       "* **Configuration:** Allows for customization of the prompt's appearance and behavior through configuration variables.\n",
       "\n",
       "**Why Use it?**\n",
       "\n",
       "* **Enhanced Efficiency:**  You can quickly assess your Git repository's state without running `git status` repeatedly.\n",
       "* **Contextual Awareness:** The Git information displayed helps you maintain situational awareness while working in a repository.\n",
       "* **Improved Workflow:** By visually presenting the state of your repository, you can better manage your development workflow.\n",
       "* **Customization:** You can tailor the script's behavior to align with your personal preferences.\n",
       "\n",
       "**How to Use it:**\n",
       "\n",
       "1. **Download the script:**  Save the code to a file named `git-prompt.sh`.\n",
       "2. **Source the script:**  Add the following line to your shell's configuration file (e.g., `.bashrc` or `.zshrc`):\n",
       "\n",
       "   ```bash\n",
       "   source /path/to/git-prompt.sh \n",
       "   ```\n",
       "\n",
       "3. **Optional customization:** Explore the script's configuration variables to adjust the prompt's appearance and behavior.\n",
       "\n",
       "With these steps, your command prompt will be augmented with informative Git details, providing a more comprehensive development experience. \n"
      ],
      "text/plain": [
       "<IPython.core.display.Markdown object>"
      ]
     },
     "execution_count": 29,
     "metadata": {},
     "output_type": "execute_result"
    }
   ],
   "source": [
    "file_contents = !curl https://raw.githubusercontent.com/magicmonty/bash-git-prompt/refs/heads/master/gitprompt.sh\n",
    "\n",
    "explain_prompt = f\"\"\"\n",
    "Please explain what this file does at a very high level. What is it, and why would I use it?\n",
    "\n",
    "```\n",
    "{file_contents}\n",
    "```\n",
    "\"\"\"\n",
    "\n",
    "model = genai.GenerativeModel('gemini-1.5-flash-latest')\n",
    "\n",
    "response = model.generate_content(explain_prompt, request_options=retry_policy)\n",
    "Markdown(response.text)"
   ]
  },
  {
   "cell_type": "markdown",
   "id": "1c3fdac4",
   "metadata": {
    "id": "2a8266d97ce5",
    "papermill": {
     "duration": 0.017501,
     "end_time": "2024-11-14T17:26:53.646180",
     "exception": false,
     "start_time": "2024-11-14T17:26:53.628679",
     "status": "completed"
    },
    "tags": []
   },
   "source": [
    "## Learn more\n",
    "\n",
    "To learn more about prompting in depth:\n",
    "\n",
    "* Check out the whitepaper issued with today's content,\n",
    "* Try out the apps listed at the top of this notebook ([TextFX](https://textfx.withgoogle.com/), [SQL Talk](https://sql-talk-r5gdynozbq-uc.a.run.app/) and [NotebookLM](https://notebooklm.google/)),\n",
    "* Read the [Introduction to Prompting](https://ai.google.dev/gemini-api/docs/prompting-intro) from the Gemini API docs,\n",
    "* Explore the Gemini API's [prompt gallery](https://ai.google.dev/gemini-api/prompts) and try them out in AI Studio,\n",
    "* Check out the Gemini API cookbook for [inspirational examples](https://github.com/google-gemini/cookbook/blob/main/examples/) and [educational quickstarts](https://github.com/google-gemini/cookbook/blob/main/quickstarts/).\n",
    "\n",
    "And please share anything exciting you have tried in the Discord!"
   ]
  }
 ],
 "metadata": {
  "colab": {
   "name": "day-1-prompting.ipynb",
   "toc_visible": true
  },
  "kaggle": {
   "accelerator": "none",
   "dataSources": [],
   "dockerImageVersionId": 30786,
   "isGpuEnabled": false,
   "isInternetEnabled": true,
   "language": "python",
   "sourceType": "notebook"
  },
  "kernelspec": {
   "display_name": "Python 3",
   "language": "python",
   "name": "python3"
  },
  "language_info": {
   "codemirror_mode": {
    "name": "ipython",
    "version": 3
   },
   "file_extension": ".py",
   "mimetype": "text/x-python",
   "name": "python",
   "nbconvert_exporter": "python",
   "pygments_lexer": "ipython3",
   "version": "3.10.14"
  },
  "papermill": {
   "default_parameters": {},
   "duration": 370.248954,
   "end_time": "2024-11-14T17:26:54.284929",
   "environment_variables": {},
   "exception": null,
   "input_path": "__notebook__.ipynb",
   "output_path": "__notebook__.ipynb",
   "parameters": {},
   "start_time": "2024-11-14T17:20:44.035975",
   "version": "2.6.0"
  }
 },
 "nbformat": 4,
 "nbformat_minor": 5
}
